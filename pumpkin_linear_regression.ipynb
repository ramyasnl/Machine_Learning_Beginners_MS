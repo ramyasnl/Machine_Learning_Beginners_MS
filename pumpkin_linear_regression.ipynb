{
  "nbformat": 4,
  "nbformat_minor": 0,
  "metadata": {
    "colab": {
      "name": "pumpkin_linear_regression.ipynb",
      "provenance": [],
      "authorship_tag": "ABX9TyMzBqILSAGVFF/xoMX3nJ1C",
      "include_colab_link": true
    },
    "kernelspec": {
      "name": "python3",
      "display_name": "Python 3"
    },
    "language_info": {
      "name": "python"
    }
  },
  "cells": [
    {
      "cell_type": "markdown",
      "metadata": {
        "id": "view-in-github",
        "colab_type": "text"
      },
      "source": [
        "<a href=\"https://colab.research.google.com/github/ramyasnl/Machine_Learning_Beginners_MS/blob/main/pumpkin_linear_regression.ipynb\" target=\"_parent\"><img src=\"https://colab.research.google.com/assets/colab-badge.svg\" alt=\"Open In Colab\"/></a>"
      ]
    },
    {
      "cell_type": "code",
      "metadata": {
        "id": "Jr1-ofxe_nJs"
      },
      "source": [
        " #Import our dependencies\n",
        "from sklearn.model_selection import train_test_split\n",
        "from sklearn.preprocessing import StandardScaler\n",
        "from sklearn.metrics import accuracy_score\n",
        "import pandas as pd\n",
        "import tensorflow as tf\n",
        "import numpy as np  \n",
        "import matplotlib.pyplot as plt\n",
        "import seaborn as sns\n"
      ],
      "execution_count": 1,
      "outputs": []
    },
    {
      "cell_type": "markdown",
      "metadata": {
        "id": "m8MxFxPUEpEK"
      },
      "source": [
        "## Introduction\n",
        "Now that you are set up with the tools you need to start tackling machine learning model building with Scikit-learn, you are ready to start asking questions of your data. As you work with data and apply ML solutions, it's very important to understand how to ask the right question to properly unlock the potentials of your dataset.\n",
        "\n",
        "## In this lesson, you will learn:\n",
        "\n",
        "1.How to prepare your data for model-building.</br>\n",
        "2.How to use Matplotlib for data visualization.</br>\n",
        "Asking the right question of your data,</br>\n",
        "The question you need answered will determine what type of ML algorithms you will leverage. And the quality of the answer you get back will be heavily dependent on the nature of your data.\n",
        "\n",
        "Take a look at the data provided for this lesson. You can open this .csv file in VS Code. A quick skim immediately shows that there are blanks and a mix of strings and numeric data. There's also a strange column called 'Package' where the data is a mix between 'sacks', 'bins' and other values. The data, in fact, is a bit of a mess.\n",
        "\n",
        "In fact, it is not very common to be gifted a dataset that is completely ready to use to create a ML model out of the box. In this lesson, you will learn how to prepare a raw dataset using standard Python libraries. You will also learn various techniques to visualize the data.\n",
        "\n",
        "## Case study: 'the pumpkin market'\n",
        "In this folder you will find a .csv </br>\n",
        "https://github.com/microsoft/ML-For-Beginners/blob/main/2-Regression/data/US-pumpkins.csv </br>\n",
        " file in the root data folder called US-pumpkins.csv which includes 1757 lines of data about the market for pumpkins, sorted into groupings by city. This is raw data extracted from the Specialty Crops Terminal Markets Standard Reports distributed by the United States Department of Agriculture."
      ]
    },
    {
      "cell_type": "code",
      "metadata": {
        "id": "kcL4r4Ph_qEJ"
      },
      "source": [
        "columns=['CityName','Type','Package','Variety','SubVariety','Grade','Date','LowPrice','HighPrice','MostlyLow','MostlyHigh','Origin','OriginDistrict']"
      ],
      "execution_count": 2,
      "outputs": []
    },
    {
      "cell_type": "code",
      "metadata": {
        "colab": {
          "base_uri": "https://localhost:8080/",
          "height": 203
        },
        "id": "qBRydtHh_qWV",
        "outputId": "c486126d-52a8-4655-d0aa-b215df3228ba"
      },
      "source": [
        "# Trying to read the data from github which didnt work well \n",
        "data_url = 'https://github.com/microsoft/ML-For-Beginners/blob/main/2-Regression/data/US-pumpkins.csv'\n",
        "raw_data = pd.read_csv(data_url, names = columns)\n",
        "raw_data.head()"
      ],
      "execution_count": 3,
      "outputs": [
        {
          "output_type": "execute_result",
          "data": {
            "text/html": [
              "<div>\n",
              "<style scoped>\n",
              "    .dataframe tbody tr th:only-of-type {\n",
              "        vertical-align: middle;\n",
              "    }\n",
              "\n",
              "    .dataframe tbody tr th {\n",
              "        vertical-align: top;\n",
              "    }\n",
              "\n",
              "    .dataframe thead th {\n",
              "        text-align: right;\n",
              "    }\n",
              "</style>\n",
              "<table border=\"1\" class=\"dataframe\">\n",
              "  <thead>\n",
              "    <tr style=\"text-align: right;\">\n",
              "      <th></th>\n",
              "      <th>CityName</th>\n",
              "      <th>Type</th>\n",
              "      <th>Package</th>\n",
              "      <th>Variety</th>\n",
              "      <th>SubVariety</th>\n",
              "      <th>Grade</th>\n",
              "      <th>Date</th>\n",
              "      <th>LowPrice</th>\n",
              "      <th>HighPrice</th>\n",
              "      <th>MostlyLow</th>\n",
              "      <th>MostlyHigh</th>\n",
              "      <th>Origin</th>\n",
              "      <th>OriginDistrict</th>\n",
              "    </tr>\n",
              "  </thead>\n",
              "  <tbody>\n",
              "    <tr>\n",
              "      <th>0</th>\n",
              "      <td>&lt;!DOCTYPE html&gt;</td>\n",
              "      <td>NaN</td>\n",
              "      <td>NaN</td>\n",
              "      <td>NaN</td>\n",
              "      <td>NaN</td>\n",
              "      <td>NaN</td>\n",
              "      <td>NaN</td>\n",
              "      <td>NaN</td>\n",
              "      <td>NaN</td>\n",
              "      <td>NaN</td>\n",
              "      <td>NaN</td>\n",
              "      <td>NaN</td>\n",
              "      <td>NaN</td>\n",
              "    </tr>\n",
              "    <tr>\n",
              "      <th>1</th>\n",
              "      <td>&lt;html lang=\"en\" data-color-mode=\"auto\" data-li...</td>\n",
              "      <td>NaN</td>\n",
              "      <td>NaN</td>\n",
              "      <td>NaN</td>\n",
              "      <td>NaN</td>\n",
              "      <td>NaN</td>\n",
              "      <td>NaN</td>\n",
              "      <td>NaN</td>\n",
              "      <td>NaN</td>\n",
              "      <td>NaN</td>\n",
              "      <td>NaN</td>\n",
              "      <td>NaN</td>\n",
              "      <td>NaN</td>\n",
              "    </tr>\n",
              "    <tr>\n",
              "      <th>2</th>\n",
              "      <td>&lt;head&gt;</td>\n",
              "      <td>NaN</td>\n",
              "      <td>NaN</td>\n",
              "      <td>NaN</td>\n",
              "      <td>NaN</td>\n",
              "      <td>NaN</td>\n",
              "      <td>NaN</td>\n",
              "      <td>NaN</td>\n",
              "      <td>NaN</td>\n",
              "      <td>NaN</td>\n",
              "      <td>NaN</td>\n",
              "      <td>NaN</td>\n",
              "      <td>NaN</td>\n",
              "    </tr>\n",
              "    <tr>\n",
              "      <th>3</th>\n",
              "      <td>&lt;meta charset=\"utf-8\"&gt;</td>\n",
              "      <td>NaN</td>\n",
              "      <td>NaN</td>\n",
              "      <td>NaN</td>\n",
              "      <td>NaN</td>\n",
              "      <td>NaN</td>\n",
              "      <td>NaN</td>\n",
              "      <td>NaN</td>\n",
              "      <td>NaN</td>\n",
              "      <td>NaN</td>\n",
              "      <td>NaN</td>\n",
              "      <td>NaN</td>\n",
              "      <td>NaN</td>\n",
              "    </tr>\n",
              "    <tr>\n",
              "      <th>4</th>\n",
              "      <td>&lt;link rel=\"dns-prefetch\" href=\"https://githu...</td>\n",
              "      <td>NaN</td>\n",
              "      <td>NaN</td>\n",
              "      <td>NaN</td>\n",
              "      <td>NaN</td>\n",
              "      <td>NaN</td>\n",
              "      <td>NaN</td>\n",
              "      <td>NaN</td>\n",
              "      <td>NaN</td>\n",
              "      <td>NaN</td>\n",
              "      <td>NaN</td>\n",
              "      <td>NaN</td>\n",
              "      <td>NaN</td>\n",
              "    </tr>\n",
              "  </tbody>\n",
              "</table>\n",
              "</div>"
            ],
            "text/plain": [
              "                                            CityName Type  ... Origin OriginDistrict\n",
              "0                                    <!DOCTYPE html>  NaN  ...    NaN            NaN\n",
              "1  <html lang=\"en\" data-color-mode=\"auto\" data-li...  NaN  ...    NaN            NaN\n",
              "2                                             <head>  NaN  ...    NaN            NaN\n",
              "3                             <meta charset=\"utf-8\">  NaN  ...    NaN            NaN\n",
              "4    <link rel=\"dns-prefetch\" href=\"https://githu...  NaN  ...    NaN            NaN\n",
              "\n",
              "[5 rows x 13 columns]"
            ]
          },
          "metadata": {
            "tags": []
          },
          "execution_count": 3
        }
      ]
    },
    {
      "cell_type": "code",
      "metadata": {
        "colab": {
          "base_uri": "https://localhost:8080/"
        },
        "id": "Qvy6GPtwFDq_",
        "outputId": "d03b370b-cb77-4f4e-c5d0-77a0cab4bd83"
      },
      "source": [
        "pip install pyspark"
      ],
      "execution_count": 4,
      "outputs": [
        {
          "output_type": "stream",
          "text": [
            "Collecting pyspark\n",
            "  Downloading pyspark-3.1.2.tar.gz (212.4 MB)\n",
            "\u001b[K     |████████████████████████████████| 212.4 MB 67 kB/s \n",
            "\u001b[?25hCollecting py4j==0.10.9\n",
            "  Downloading py4j-0.10.9-py2.py3-none-any.whl (198 kB)\n",
            "\u001b[K     |████████████████████████████████| 198 kB 47.5 MB/s \n",
            "\u001b[?25hBuilding wheels for collected packages: pyspark\n",
            "  Building wheel for pyspark (setup.py) ... \u001b[?25l\u001b[?25hdone\n",
            "  Created wheel for pyspark: filename=pyspark-3.1.2-py2.py3-none-any.whl size=212880768 sha256=71b8582e769742969d4eefac46c89d6f7c69d2009c1e9a4068595c37a7c98e09\n",
            "  Stored in directory: /root/.cache/pip/wheels/a5/0a/c1/9561f6fecb759579a7d863dcd846daaa95f598744e71b02c77\n",
            "Successfully built pyspark\n",
            "Installing collected packages: py4j, pyspark\n",
            "Successfully installed py4j-0.10.9 pyspark-3.1.2\n"
          ],
          "name": "stdout"
        }
      ]
    },
    {
      "cell_type": "markdown",
      "metadata": {
        "id": "9Scpb-CGYIhZ"
      },
      "source": [
        "# Data can be directly read from github ,use the raw data button in the data page and copy the link ."
      ]
    },
    {
      "cell_type": "code",
      "metadata": {
        "colab": {
          "base_uri": "https://localhost:8080/",
          "height": 341
        },
        "id": "v9lFcy_uHfQB",
        "outputId": "c7c8bccc-7f54-4c15-9366-4c6f6c683566"
      },
      "source": [
        "import pandas as pd\n",
        "\n",
        "df = pd.read_csv('https://raw.githubusercontent.com/microsoft/ML-For-Beginners/main/2-Regression/data/US-pumpkins.csv', error_bad_lines=False)\n",
        "df.head()"
      ],
      "execution_count": 5,
      "outputs": [
        {
          "output_type": "execute_result",
          "data": {
            "text/html": [
              "<div>\n",
              "<style scoped>\n",
              "    .dataframe tbody tr th:only-of-type {\n",
              "        vertical-align: middle;\n",
              "    }\n",
              "\n",
              "    .dataframe tbody tr th {\n",
              "        vertical-align: top;\n",
              "    }\n",
              "\n",
              "    .dataframe thead th {\n",
              "        text-align: right;\n",
              "    }\n",
              "</style>\n",
              "<table border=\"1\" class=\"dataframe\">\n",
              "  <thead>\n",
              "    <tr style=\"text-align: right;\">\n",
              "      <th></th>\n",
              "      <th>City Name</th>\n",
              "      <th>Type</th>\n",
              "      <th>Package</th>\n",
              "      <th>Variety</th>\n",
              "      <th>Sub Variety</th>\n",
              "      <th>Grade</th>\n",
              "      <th>Date</th>\n",
              "      <th>Low Price</th>\n",
              "      <th>High Price</th>\n",
              "      <th>Mostly Low</th>\n",
              "      <th>Mostly High</th>\n",
              "      <th>Origin</th>\n",
              "      <th>Origin District</th>\n",
              "      <th>Item Size</th>\n",
              "      <th>Color</th>\n",
              "      <th>Environment</th>\n",
              "      <th>Unit of Sale</th>\n",
              "      <th>Quality</th>\n",
              "      <th>Condition</th>\n",
              "      <th>Appearance</th>\n",
              "      <th>Storage</th>\n",
              "      <th>Crop</th>\n",
              "      <th>Repack</th>\n",
              "      <th>Trans Mode</th>\n",
              "      <th>Unnamed: 24</th>\n",
              "      <th>Unnamed: 25</th>\n",
              "    </tr>\n",
              "  </thead>\n",
              "  <tbody>\n",
              "    <tr>\n",
              "      <th>0</th>\n",
              "      <td>BALTIMORE</td>\n",
              "      <td>NaN</td>\n",
              "      <td>24 inch bins</td>\n",
              "      <td>NaN</td>\n",
              "      <td>NaN</td>\n",
              "      <td>NaN</td>\n",
              "      <td>4/29/17</td>\n",
              "      <td>270.0</td>\n",
              "      <td>280.0</td>\n",
              "      <td>270.0</td>\n",
              "      <td>280.0</td>\n",
              "      <td>MARYLAND</td>\n",
              "      <td>NaN</td>\n",
              "      <td>lge</td>\n",
              "      <td>NaN</td>\n",
              "      <td>NaN</td>\n",
              "      <td>NaN</td>\n",
              "      <td>NaN</td>\n",
              "      <td>NaN</td>\n",
              "      <td>NaN</td>\n",
              "      <td>NaN</td>\n",
              "      <td>NaN</td>\n",
              "      <td>E</td>\n",
              "      <td>NaN</td>\n",
              "      <td>NaN</td>\n",
              "      <td>NaN</td>\n",
              "    </tr>\n",
              "    <tr>\n",
              "      <th>1</th>\n",
              "      <td>BALTIMORE</td>\n",
              "      <td>NaN</td>\n",
              "      <td>24 inch bins</td>\n",
              "      <td>NaN</td>\n",
              "      <td>NaN</td>\n",
              "      <td>NaN</td>\n",
              "      <td>5/6/17</td>\n",
              "      <td>270.0</td>\n",
              "      <td>280.0</td>\n",
              "      <td>270.0</td>\n",
              "      <td>280.0</td>\n",
              "      <td>MARYLAND</td>\n",
              "      <td>NaN</td>\n",
              "      <td>lge</td>\n",
              "      <td>NaN</td>\n",
              "      <td>NaN</td>\n",
              "      <td>NaN</td>\n",
              "      <td>NaN</td>\n",
              "      <td>NaN</td>\n",
              "      <td>NaN</td>\n",
              "      <td>NaN</td>\n",
              "      <td>NaN</td>\n",
              "      <td>E</td>\n",
              "      <td>NaN</td>\n",
              "      <td>NaN</td>\n",
              "      <td>NaN</td>\n",
              "    </tr>\n",
              "    <tr>\n",
              "      <th>2</th>\n",
              "      <td>BALTIMORE</td>\n",
              "      <td>NaN</td>\n",
              "      <td>24 inch bins</td>\n",
              "      <td>HOWDEN TYPE</td>\n",
              "      <td>NaN</td>\n",
              "      <td>NaN</td>\n",
              "      <td>9/24/16</td>\n",
              "      <td>160.0</td>\n",
              "      <td>160.0</td>\n",
              "      <td>160.0</td>\n",
              "      <td>160.0</td>\n",
              "      <td>DELAWARE</td>\n",
              "      <td>NaN</td>\n",
              "      <td>med</td>\n",
              "      <td>ORANGE</td>\n",
              "      <td>NaN</td>\n",
              "      <td>NaN</td>\n",
              "      <td>NaN</td>\n",
              "      <td>NaN</td>\n",
              "      <td>NaN</td>\n",
              "      <td>NaN</td>\n",
              "      <td>NaN</td>\n",
              "      <td>N</td>\n",
              "      <td>NaN</td>\n",
              "      <td>NaN</td>\n",
              "      <td>NaN</td>\n",
              "    </tr>\n",
              "    <tr>\n",
              "      <th>3</th>\n",
              "      <td>BALTIMORE</td>\n",
              "      <td>NaN</td>\n",
              "      <td>24 inch bins</td>\n",
              "      <td>HOWDEN TYPE</td>\n",
              "      <td>NaN</td>\n",
              "      <td>NaN</td>\n",
              "      <td>9/24/16</td>\n",
              "      <td>160.0</td>\n",
              "      <td>160.0</td>\n",
              "      <td>160.0</td>\n",
              "      <td>160.0</td>\n",
              "      <td>VIRGINIA</td>\n",
              "      <td>NaN</td>\n",
              "      <td>med</td>\n",
              "      <td>ORANGE</td>\n",
              "      <td>NaN</td>\n",
              "      <td>NaN</td>\n",
              "      <td>NaN</td>\n",
              "      <td>NaN</td>\n",
              "      <td>NaN</td>\n",
              "      <td>NaN</td>\n",
              "      <td>NaN</td>\n",
              "      <td>N</td>\n",
              "      <td>NaN</td>\n",
              "      <td>NaN</td>\n",
              "      <td>NaN</td>\n",
              "    </tr>\n",
              "    <tr>\n",
              "      <th>4</th>\n",
              "      <td>BALTIMORE</td>\n",
              "      <td>NaN</td>\n",
              "      <td>24 inch bins</td>\n",
              "      <td>HOWDEN TYPE</td>\n",
              "      <td>NaN</td>\n",
              "      <td>NaN</td>\n",
              "      <td>11/5/16</td>\n",
              "      <td>90.0</td>\n",
              "      <td>100.0</td>\n",
              "      <td>90.0</td>\n",
              "      <td>100.0</td>\n",
              "      <td>MARYLAND</td>\n",
              "      <td>NaN</td>\n",
              "      <td>lge</td>\n",
              "      <td>ORANGE</td>\n",
              "      <td>NaN</td>\n",
              "      <td>NaN</td>\n",
              "      <td>NaN</td>\n",
              "      <td>NaN</td>\n",
              "      <td>NaN</td>\n",
              "      <td>NaN</td>\n",
              "      <td>NaN</td>\n",
              "      <td>N</td>\n",
              "      <td>NaN</td>\n",
              "      <td>NaN</td>\n",
              "      <td>NaN</td>\n",
              "    </tr>\n",
              "  </tbody>\n",
              "</table>\n",
              "</div>"
            ],
            "text/plain": [
              "   City Name Type       Package  ... Trans Mode Unnamed: 24  Unnamed: 25\n",
              "0  BALTIMORE  NaN  24 inch bins  ...        NaN         NaN          NaN\n",
              "1  BALTIMORE  NaN  24 inch bins  ...        NaN         NaN          NaN\n",
              "2  BALTIMORE  NaN  24 inch bins  ...        NaN         NaN          NaN\n",
              "3  BALTIMORE  NaN  24 inch bins  ...        NaN         NaN          NaN\n",
              "4  BALTIMORE  NaN  24 inch bins  ...        NaN         NaN          NaN\n",
              "\n",
              "[5 rows x 26 columns]"
            ]
          },
          "metadata": {
            "tags": []
          },
          "execution_count": 5
        }
      ]
    },
    {
      "cell_type": "code",
      "metadata": {
        "colab": {
          "base_uri": "https://localhost:8080/",
          "height": 203
        },
        "id": "2cd1vrSFIC8A",
        "outputId": "2d5a0c4f-71c0-4680-92f2-ca1e6e959b09"
      },
      "source": [
        "# Just another example of reading another file \n",
        "import pandas as pd\n",
        "\n",
        "df = pd.read_csv('https://raw.githubusercontent.com/insaid2018/Term-1/master/Data/Casestudy/titanic_train.csv')\n",
        "df.head()"
      ],
      "execution_count": 6,
      "outputs": [
        {
          "output_type": "execute_result",
          "data": {
            "text/html": [
              "<div>\n",
              "<style scoped>\n",
              "    .dataframe tbody tr th:only-of-type {\n",
              "        vertical-align: middle;\n",
              "    }\n",
              "\n",
              "    .dataframe tbody tr th {\n",
              "        vertical-align: top;\n",
              "    }\n",
              "\n",
              "    .dataframe thead th {\n",
              "        text-align: right;\n",
              "    }\n",
              "</style>\n",
              "<table border=\"1\" class=\"dataframe\">\n",
              "  <thead>\n",
              "    <tr style=\"text-align: right;\">\n",
              "      <th></th>\n",
              "      <th>PassengerId</th>\n",
              "      <th>Survived</th>\n",
              "      <th>Pclass</th>\n",
              "      <th>Name</th>\n",
              "      <th>Sex</th>\n",
              "      <th>Age</th>\n",
              "      <th>SibSp</th>\n",
              "      <th>Parch</th>\n",
              "      <th>Ticket</th>\n",
              "      <th>Fare</th>\n",
              "      <th>Cabin</th>\n",
              "      <th>Embarked</th>\n",
              "    </tr>\n",
              "  </thead>\n",
              "  <tbody>\n",
              "    <tr>\n",
              "      <th>0</th>\n",
              "      <td>1</td>\n",
              "      <td>0</td>\n",
              "      <td>3</td>\n",
              "      <td>Braund, Mr. Owen Harris</td>\n",
              "      <td>male</td>\n",
              "      <td>22.0</td>\n",
              "      <td>1</td>\n",
              "      <td>0</td>\n",
              "      <td>A/5 21171</td>\n",
              "      <td>7.2500</td>\n",
              "      <td>NaN</td>\n",
              "      <td>S</td>\n",
              "    </tr>\n",
              "    <tr>\n",
              "      <th>1</th>\n",
              "      <td>2</td>\n",
              "      <td>1</td>\n",
              "      <td>1</td>\n",
              "      <td>Cumings, Mrs. John Bradley (Florence Briggs Th...</td>\n",
              "      <td>female</td>\n",
              "      <td>38.0</td>\n",
              "      <td>1</td>\n",
              "      <td>0</td>\n",
              "      <td>PC 17599</td>\n",
              "      <td>71.2833</td>\n",
              "      <td>C85</td>\n",
              "      <td>C</td>\n",
              "    </tr>\n",
              "    <tr>\n",
              "      <th>2</th>\n",
              "      <td>3</td>\n",
              "      <td>1</td>\n",
              "      <td>3</td>\n",
              "      <td>Heikkinen, Miss. Laina</td>\n",
              "      <td>female</td>\n",
              "      <td>26.0</td>\n",
              "      <td>0</td>\n",
              "      <td>0</td>\n",
              "      <td>STON/O2. 3101282</td>\n",
              "      <td>7.9250</td>\n",
              "      <td>NaN</td>\n",
              "      <td>S</td>\n",
              "    </tr>\n",
              "    <tr>\n",
              "      <th>3</th>\n",
              "      <td>4</td>\n",
              "      <td>1</td>\n",
              "      <td>1</td>\n",
              "      <td>Futrelle, Mrs. Jacques Heath (Lily May Peel)</td>\n",
              "      <td>female</td>\n",
              "      <td>35.0</td>\n",
              "      <td>1</td>\n",
              "      <td>0</td>\n",
              "      <td>113803</td>\n",
              "      <td>53.1000</td>\n",
              "      <td>C123</td>\n",
              "      <td>S</td>\n",
              "    </tr>\n",
              "    <tr>\n",
              "      <th>4</th>\n",
              "      <td>5</td>\n",
              "      <td>0</td>\n",
              "      <td>3</td>\n",
              "      <td>Allen, Mr. William Henry</td>\n",
              "      <td>male</td>\n",
              "      <td>35.0</td>\n",
              "      <td>0</td>\n",
              "      <td>0</td>\n",
              "      <td>373450</td>\n",
              "      <td>8.0500</td>\n",
              "      <td>NaN</td>\n",
              "      <td>S</td>\n",
              "    </tr>\n",
              "  </tbody>\n",
              "</table>\n",
              "</div>"
            ],
            "text/plain": [
              "   PassengerId  Survived  Pclass  ...     Fare Cabin  Embarked\n",
              "0            1         0       3  ...   7.2500   NaN         S\n",
              "1            2         1       1  ...  71.2833   C85         C\n",
              "2            3         1       3  ...   7.9250   NaN         S\n",
              "3            4         1       1  ...  53.1000  C123         S\n",
              "4            5         0       3  ...   8.0500   NaN         S\n",
              "\n",
              "[5 rows x 12 columns]"
            ]
          },
          "metadata": {
            "tags": []
          },
          "execution_count": 6
        }
      ]
    },
    {
      "cell_type": "markdown",
      "metadata": {
        "id": "l19C6aslaOt5"
      },
      "source": [
        "# The Pumpkin Market\n",
        "In this folder you will find a .csv file in the root data folder called US-pumpkins.csv which includes 1757 lines of data about the market for pumpkins, sorted into groupings by city. This is raw data extracted from the Specialty Crops Terminal Markets Standard Reports distributed by the United States Department of Agriculture.\n",
        "\n",
        "## Preparing data\n",
        "This data is in the public domain. It can be downloaded in many separate files, per city, from the USDA web site. To avoid too many separate files, we have concatenated all the city data into one spreadsheet, thus we have already prepared the data a bit. Next, let's take a closer look at the data.\n",
        "\n",
        "## The pumpkin data - early conclusions\n",
        "What do you notice about this data? You already saw that there is a mix of strings, numbers, blanks and strange values that you need to make sense of.\n",
        "\n",
        "## What question can you ask of this data, using a Regression technique?\n",
        " What about \"Predict the price of a pumpkin for sale during a given month\". Looking again at the data, there are some changes you need to make to create the data structure necessary for the task."
      ]
    },
    {
      "cell_type": "code",
      "metadata": {
        "id": "5yKHaKFxBJHV"
      },
      "source": [
        "# If you look at the Package column, pumpkins are sold in many different configurations. \n",
        "# Some are sold in '1 1/9 bushel' measures, and some in '1/2 bushel' measures, some per pumpkin, some per pound, and some in big boxes with varying widths.\n",
        "\n",
        "# Pumpkins seem very hard to weigh consistently\n",
        "\n",
        "# Digging into the original data, it's interesting that anything with Unit of Sale equalling 'EACH' or 'PER BIN' also have the Package type per inch, per bin, or 'each'.\n",
        "#  Pumpkins seem to be very hard to weigh consistently, so let's filter them by selecting only pumpkins with the string 'bushel' in their Package column."
      ],
      "execution_count": 7,
      "outputs": []
    },
    {
      "cell_type": "markdown",
      "metadata": {
        "id": "m6g5ADFcBbF2"
      },
      "source": [
        ""
      ]
    },
    {
      "cell_type": "code",
      "metadata": {
        "id": "ff_59XhMBKqv"
      },
      "source": [
        ""
      ],
      "execution_count": 7,
      "outputs": []
    },
    {
      "cell_type": "code",
      "metadata": {
        "colab": {
          "base_uri": "https://localhost:8080/",
          "height": 425
        },
        "id": "jmi_M40wY-Zq",
        "outputId": "ab613589-bb7d-4a11-ef00-18e116f59532"
      },
      "source": [
        "pumpkins = pd.read_csv('https://raw.githubusercontent.com/microsoft/ML-For-Beginners/main/2-Regression/data/US-pumpkins.csv', error_bad_lines=False)\n",
        "pumpkins = pumpkins[pumpkins['Package'].str.contains('bushel', case=True, regex=True)]\n",
        "\n",
        "pumpkins.head()"
      ],
      "execution_count": 8,
      "outputs": [
        {
          "output_type": "execute_result",
          "data": {
            "text/html": [
              "<div>\n",
              "<style scoped>\n",
              "    .dataframe tbody tr th:only-of-type {\n",
              "        vertical-align: middle;\n",
              "    }\n",
              "\n",
              "    .dataframe tbody tr th {\n",
              "        vertical-align: top;\n",
              "    }\n",
              "\n",
              "    .dataframe thead th {\n",
              "        text-align: right;\n",
              "    }\n",
              "</style>\n",
              "<table border=\"1\" class=\"dataframe\">\n",
              "  <thead>\n",
              "    <tr style=\"text-align: right;\">\n",
              "      <th></th>\n",
              "      <th>City Name</th>\n",
              "      <th>Type</th>\n",
              "      <th>Package</th>\n",
              "      <th>Variety</th>\n",
              "      <th>Sub Variety</th>\n",
              "      <th>Grade</th>\n",
              "      <th>Date</th>\n",
              "      <th>Low Price</th>\n",
              "      <th>High Price</th>\n",
              "      <th>Mostly Low</th>\n",
              "      <th>Mostly High</th>\n",
              "      <th>Origin</th>\n",
              "      <th>Origin District</th>\n",
              "      <th>Item Size</th>\n",
              "      <th>Color</th>\n",
              "      <th>Environment</th>\n",
              "      <th>Unit of Sale</th>\n",
              "      <th>Quality</th>\n",
              "      <th>Condition</th>\n",
              "      <th>Appearance</th>\n",
              "      <th>Storage</th>\n",
              "      <th>Crop</th>\n",
              "      <th>Repack</th>\n",
              "      <th>Trans Mode</th>\n",
              "      <th>Unnamed: 24</th>\n",
              "      <th>Unnamed: 25</th>\n",
              "    </tr>\n",
              "  </thead>\n",
              "  <tbody>\n",
              "    <tr>\n",
              "      <th>70</th>\n",
              "      <td>BALTIMORE</td>\n",
              "      <td>NaN</td>\n",
              "      <td>1 1/9 bushel cartons</td>\n",
              "      <td>PIE TYPE</td>\n",
              "      <td>NaN</td>\n",
              "      <td>NaN</td>\n",
              "      <td>9/24/16</td>\n",
              "      <td>15.0</td>\n",
              "      <td>15.0</td>\n",
              "      <td>15.0</td>\n",
              "      <td>15.0</td>\n",
              "      <td>DELAWARE</td>\n",
              "      <td>NaN</td>\n",
              "      <td>med</td>\n",
              "      <td>ORANGE</td>\n",
              "      <td>NaN</td>\n",
              "      <td>NaN</td>\n",
              "      <td>NaN</td>\n",
              "      <td>NaN</td>\n",
              "      <td>NaN</td>\n",
              "      <td>NaN</td>\n",
              "      <td>NaN</td>\n",
              "      <td>N</td>\n",
              "      <td>NaN</td>\n",
              "      <td>NaN</td>\n",
              "      <td>NaN</td>\n",
              "    </tr>\n",
              "    <tr>\n",
              "      <th>71</th>\n",
              "      <td>BALTIMORE</td>\n",
              "      <td>NaN</td>\n",
              "      <td>1 1/9 bushel cartons</td>\n",
              "      <td>PIE TYPE</td>\n",
              "      <td>NaN</td>\n",
              "      <td>NaN</td>\n",
              "      <td>9/24/16</td>\n",
              "      <td>18.0</td>\n",
              "      <td>18.0</td>\n",
              "      <td>18.0</td>\n",
              "      <td>18.0</td>\n",
              "      <td>DELAWARE</td>\n",
              "      <td>NaN</td>\n",
              "      <td>sml</td>\n",
              "      <td>ORANGE</td>\n",
              "      <td>NaN</td>\n",
              "      <td>NaN</td>\n",
              "      <td>NaN</td>\n",
              "      <td>NaN</td>\n",
              "      <td>NaN</td>\n",
              "      <td>NaN</td>\n",
              "      <td>NaN</td>\n",
              "      <td>N</td>\n",
              "      <td>NaN</td>\n",
              "      <td>NaN</td>\n",
              "      <td>NaN</td>\n",
              "    </tr>\n",
              "    <tr>\n",
              "      <th>72</th>\n",
              "      <td>BALTIMORE</td>\n",
              "      <td>NaN</td>\n",
              "      <td>1 1/9 bushel cartons</td>\n",
              "      <td>PIE TYPE</td>\n",
              "      <td>NaN</td>\n",
              "      <td>NaN</td>\n",
              "      <td>10/1/16</td>\n",
              "      <td>18.0</td>\n",
              "      <td>18.0</td>\n",
              "      <td>18.0</td>\n",
              "      <td>18.0</td>\n",
              "      <td>DELAWARE</td>\n",
              "      <td>NaN</td>\n",
              "      <td>sml</td>\n",
              "      <td>ORANGE</td>\n",
              "      <td>NaN</td>\n",
              "      <td>NaN</td>\n",
              "      <td>NaN</td>\n",
              "      <td>NaN</td>\n",
              "      <td>NaN</td>\n",
              "      <td>NaN</td>\n",
              "      <td>NaN</td>\n",
              "      <td>N</td>\n",
              "      <td>NaN</td>\n",
              "      <td>NaN</td>\n",
              "      <td>NaN</td>\n",
              "    </tr>\n",
              "    <tr>\n",
              "      <th>73</th>\n",
              "      <td>BALTIMORE</td>\n",
              "      <td>NaN</td>\n",
              "      <td>1 1/9 bushel cartons</td>\n",
              "      <td>PIE TYPE</td>\n",
              "      <td>NaN</td>\n",
              "      <td>NaN</td>\n",
              "      <td>10/1/16</td>\n",
              "      <td>17.0</td>\n",
              "      <td>17.0</td>\n",
              "      <td>17.0</td>\n",
              "      <td>17.0</td>\n",
              "      <td>OHIO</td>\n",
              "      <td>NaN</td>\n",
              "      <td>med</td>\n",
              "      <td>ORANGE</td>\n",
              "      <td>NaN</td>\n",
              "      <td>NaN</td>\n",
              "      <td>NaN</td>\n",
              "      <td>NaN</td>\n",
              "      <td>NaN</td>\n",
              "      <td>NaN</td>\n",
              "      <td>NaN</td>\n",
              "      <td>N</td>\n",
              "      <td>NaN</td>\n",
              "      <td>NaN</td>\n",
              "      <td>NaN</td>\n",
              "    </tr>\n",
              "    <tr>\n",
              "      <th>74</th>\n",
              "      <td>BALTIMORE</td>\n",
              "      <td>NaN</td>\n",
              "      <td>1 1/9 bushel cartons</td>\n",
              "      <td>PIE TYPE</td>\n",
              "      <td>NaN</td>\n",
              "      <td>NaN</td>\n",
              "      <td>10/8/16</td>\n",
              "      <td>15.0</td>\n",
              "      <td>15.0</td>\n",
              "      <td>15.0</td>\n",
              "      <td>15.0</td>\n",
              "      <td>DELAWARE</td>\n",
              "      <td>NaN</td>\n",
              "      <td>NaN</td>\n",
              "      <td>ORANGE</td>\n",
              "      <td>NaN</td>\n",
              "      <td>NaN</td>\n",
              "      <td>NaN</td>\n",
              "      <td>NaN</td>\n",
              "      <td>NaN</td>\n",
              "      <td>NaN</td>\n",
              "      <td>NaN</td>\n",
              "      <td>N</td>\n",
              "      <td>NaN</td>\n",
              "      <td>NaN</td>\n",
              "      <td>NaN</td>\n",
              "    </tr>\n",
              "  </tbody>\n",
              "</table>\n",
              "</div>"
            ],
            "text/plain": [
              "    City Name Type               Package  ... Trans Mode Unnamed: 24  Unnamed: 25\n",
              "70  BALTIMORE  NaN  1 1/9 bushel cartons  ...        NaN         NaN          NaN\n",
              "71  BALTIMORE  NaN  1 1/9 bushel cartons  ...        NaN         NaN          NaN\n",
              "72  BALTIMORE  NaN  1 1/9 bushel cartons  ...        NaN         NaN          NaN\n",
              "73  BALTIMORE  NaN  1 1/9 bushel cartons  ...        NaN         NaN          NaN\n",
              "74  BALTIMORE  NaN  1 1/9 bushel cartons  ...        NaN         NaN          NaN\n",
              "\n",
              "[5 rows x 26 columns]"
            ]
          },
          "metadata": {
            "tags": []
          },
          "execution_count": 8
        }
      ]
    },
    {
      "cell_type": "code",
      "metadata": {
        "colab": {
          "base_uri": "https://localhost:8080/"
        },
        "id": "-46ZB-6hBvX4",
        "outputId": "bac197a0-3f4d-4409-d4fb-3df3a841d6b3"
      },
      "source": [
        "pumpkins.info()"
      ],
      "execution_count": 9,
      "outputs": [
        {
          "output_type": "stream",
          "text": [
            "<class 'pandas.core.frame.DataFrame'>\n",
            "Int64Index: 415 entries, 70 to 1742\n",
            "Data columns (total 26 columns):\n",
            " #   Column           Non-Null Count  Dtype  \n",
            "---  ------           --------------  -----  \n",
            " 0   City Name        415 non-null    object \n",
            " 1   Type             9 non-null      object \n",
            " 2   Package          415 non-null    object \n",
            " 3   Variety          415 non-null    object \n",
            " 4   Sub Variety      248 non-null    object \n",
            " 5   Grade            0 non-null      float64\n",
            " 6   Date             415 non-null    object \n",
            " 7   Low Price        415 non-null    float64\n",
            " 8   High Price       415 non-null    float64\n",
            " 9   Mostly Low       391 non-null    float64\n",
            " 10  Mostly High      391 non-null    float64\n",
            " 11  Origin           415 non-null    object \n",
            " 12  Origin District  19 non-null     object \n",
            " 13  Item Size        301 non-null    object \n",
            " 14  Color            270 non-null    object \n",
            " 15  Environment      0 non-null      float64\n",
            " 16  Unit of Sale     11 non-null     object \n",
            " 17  Quality          0 non-null      float64\n",
            " 18  Condition        0 non-null      float64\n",
            " 19  Appearance       0 non-null      float64\n",
            " 20  Storage          0 non-null      float64\n",
            " 21  Crop             0 non-null      float64\n",
            " 22  Repack           415 non-null    object \n",
            " 23  Trans Mode       0 non-null      float64\n",
            " 24  Unnamed: 24      0 non-null      float64\n",
            " 25  Unnamed: 25      24 non-null     object \n",
            "dtypes: float64(13), object(13)\n",
            "memory usage: 87.5+ KB\n"
          ],
          "name": "stdout"
        }
      ]
    },
    {
      "cell_type": "markdown",
      "metadata": {
        "id": "h1edrL5ZbgPp"
      },
      "source": [
        "## Linear Regression for Pumpkins"
      ]
    },
    {
      "cell_type": "markdown",
      "metadata": {
        "id": "Wk_OHsvHAx4V"
      },
      "source": [
        "## Check if there is missing data in the current dataframe:"
      ]
    },
    {
      "cell_type": "code",
      "metadata": {
        "colab": {
          "base_uri": "https://localhost:8080/"
        },
        "id": "WpL4vPEvZlFq",
        "outputId": "870b3343-ccdc-4992-85f2-ad5177b092cd"
      },
      "source": [
        "pumpkins.isnull().sum()"
      ],
      "execution_count": 10,
      "outputs": [
        {
          "output_type": "execute_result",
          "data": {
            "text/plain": [
              "City Name            0\n",
              "Type               406\n",
              "Package              0\n",
              "Variety              0\n",
              "Sub Variety        167\n",
              "Grade              415\n",
              "Date                 0\n",
              "Low Price            0\n",
              "High Price           0\n",
              "Mostly Low          24\n",
              "Mostly High         24\n",
              "Origin               0\n",
              "Origin District    396\n",
              "Item Size          114\n",
              "Color              145\n",
              "Environment        415\n",
              "Unit of Sale       404\n",
              "Quality            415\n",
              "Condition          415\n",
              "Appearance         415\n",
              "Storage            415\n",
              "Crop               415\n",
              "Repack               0\n",
              "Trans Mode         415\n",
              "Unnamed: 24        415\n",
              "Unnamed: 25        391\n",
              "dtype: int64"
            ]
          },
          "metadata": {
            "tags": []
          },
          "execution_count": 10
        }
      ]
    },
    {
      "cell_type": "code",
      "metadata": {
        "colab": {
          "base_uri": "https://localhost:8080/"
        },
        "id": "EQIwU1xvZqJv",
        "outputId": "9f124620-fbe1-4177-c6c9-0cfa84d92ca0"
      },
      "source": [
        "# A set of new columns for a new dataframe. Filter out nonmatching columns\n",
        "new_columns = ['Package', 'Month', 'Low Price', 'High Price', 'Date']\n",
        "pumpkins = pumpkins.drop([c for c in pumpkins.columns if c not in new_columns], axis=1)\n",
        "\n",
        "# Get an average between low and high price for the base pumpkin price\n",
        "price = (pumpkins['Low Price'] + pumpkins['High Price']) / 2\n",
        "# First, check for missing dates\n",
        "# You will first need to take steps to check for missing dates:\n",
        "\n",
        "# Convert the dates to a month format (these are US dates, so the format is MM/DD/YYYY).\n",
        "# Extract the month to a new column.\n",
        "\n",
        "# Convert the date to its month only\n",
        "month = pd.DatetimeIndex(pumpkins['Date']).month\n",
        "\n",
        "# Create a new dataframe with this basic data\n",
        "new_pumpkins = pd.DataFrame({'Month': month, 'Package': pumpkins['Package'], 'Low Price': pumpkins['Low Price'],'High Price': pumpkins['High Price'], 'Price': price})\n",
        "# But wait! There's one more thing to do\n",
        "# Did you notice that the bushel amount varies per row? You need to normalize the pricing so that you show the pricing per bushel, so do some math to standardize it.\n",
        "\n",
        "# Add these lines after the block creating the new_pumpkins dataframe:\n",
        "# Convert the price if the Package contains fractional bushel values\n",
        "new_pumpkins.loc[new_pumpkins['Package'].str.contains('1 1/9'), 'Price'] = price/(1 + 1/9)\n",
        "\n",
        "new_pumpkins.loc[new_pumpkins['Package'].str.contains('1/2'), 'Price'] = price/(1/2)\n",
        "\n",
        "print(new_pumpkins)"
      ],
      "execution_count": 11,
      "outputs": [
        {
          "output_type": "stream",
          "text": [
            "      Month               Package  Low Price  High Price  Price\n",
            "70        9  1 1/9 bushel cartons      15.00        15.0  13.50\n",
            "71        9  1 1/9 bushel cartons      18.00        18.0  16.20\n",
            "72       10  1 1/9 bushel cartons      18.00        18.0  16.20\n",
            "73       10  1 1/9 bushel cartons      17.00        17.0  15.30\n",
            "74       10  1 1/9 bushel cartons      15.00        15.0  13.50\n",
            "...     ...                   ...        ...         ...    ...\n",
            "1738      9    1/2 bushel cartons      15.00        15.0  30.00\n",
            "1739      9    1/2 bushel cartons      13.75        15.0  28.75\n",
            "1740      9    1/2 bushel cartons      10.75        15.0  25.75\n",
            "1741      9    1/2 bushel cartons      12.00        12.0  24.00\n",
            "1742      9    1/2 bushel cartons      12.00        12.0  24.00\n",
            "\n",
            "[415 rows x 5 columns]\n"
          ],
          "name": "stdout"
        }
      ]
    },
    {
      "cell_type": "code",
      "metadata": {
        "colab": {
          "base_uri": "https://localhost:8080/",
          "height": 357
        },
        "id": "7D5r32T5xxnp",
        "outputId": "7dfb493b-770f-4abe-ca98-402a826ab0d5"
      },
      "source": [
        "new_pumpkins.head(10)"
      ],
      "execution_count": 12,
      "outputs": [
        {
          "output_type": "execute_result",
          "data": {
            "text/html": [
              "<div>\n",
              "<style scoped>\n",
              "    .dataframe tbody tr th:only-of-type {\n",
              "        vertical-align: middle;\n",
              "    }\n",
              "\n",
              "    .dataframe tbody tr th {\n",
              "        vertical-align: top;\n",
              "    }\n",
              "\n",
              "    .dataframe thead th {\n",
              "        text-align: right;\n",
              "    }\n",
              "</style>\n",
              "<table border=\"1\" class=\"dataframe\">\n",
              "  <thead>\n",
              "    <tr style=\"text-align: right;\">\n",
              "      <th></th>\n",
              "      <th>Month</th>\n",
              "      <th>Package</th>\n",
              "      <th>Low Price</th>\n",
              "      <th>High Price</th>\n",
              "      <th>Price</th>\n",
              "    </tr>\n",
              "  </thead>\n",
              "  <tbody>\n",
              "    <tr>\n",
              "      <th>70</th>\n",
              "      <td>9</td>\n",
              "      <td>1 1/9 bushel cartons</td>\n",
              "      <td>15.0</td>\n",
              "      <td>15.0</td>\n",
              "      <td>13.500</td>\n",
              "    </tr>\n",
              "    <tr>\n",
              "      <th>71</th>\n",
              "      <td>9</td>\n",
              "      <td>1 1/9 bushel cartons</td>\n",
              "      <td>18.0</td>\n",
              "      <td>18.0</td>\n",
              "      <td>16.200</td>\n",
              "    </tr>\n",
              "    <tr>\n",
              "      <th>72</th>\n",
              "      <td>10</td>\n",
              "      <td>1 1/9 bushel cartons</td>\n",
              "      <td>18.0</td>\n",
              "      <td>18.0</td>\n",
              "      <td>16.200</td>\n",
              "    </tr>\n",
              "    <tr>\n",
              "      <th>73</th>\n",
              "      <td>10</td>\n",
              "      <td>1 1/9 bushel cartons</td>\n",
              "      <td>17.0</td>\n",
              "      <td>17.0</td>\n",
              "      <td>15.300</td>\n",
              "    </tr>\n",
              "    <tr>\n",
              "      <th>74</th>\n",
              "      <td>10</td>\n",
              "      <td>1 1/9 bushel cartons</td>\n",
              "      <td>15.0</td>\n",
              "      <td>15.0</td>\n",
              "      <td>13.500</td>\n",
              "    </tr>\n",
              "    <tr>\n",
              "      <th>75</th>\n",
              "      <td>10</td>\n",
              "      <td>1 1/9 bushel cartons</td>\n",
              "      <td>18.0</td>\n",
              "      <td>18.0</td>\n",
              "      <td>16.200</td>\n",
              "    </tr>\n",
              "    <tr>\n",
              "      <th>76</th>\n",
              "      <td>10</td>\n",
              "      <td>1 1/9 bushel cartons</td>\n",
              "      <td>17.0</td>\n",
              "      <td>17.0</td>\n",
              "      <td>15.300</td>\n",
              "    </tr>\n",
              "    <tr>\n",
              "      <th>77</th>\n",
              "      <td>10</td>\n",
              "      <td>1 1/9 bushel cartons</td>\n",
              "      <td>17.0</td>\n",
              "      <td>18.5</td>\n",
              "      <td>15.975</td>\n",
              "    </tr>\n",
              "    <tr>\n",
              "      <th>78</th>\n",
              "      <td>10</td>\n",
              "      <td>1 1/9 bushel cartons</td>\n",
              "      <td>15.0</td>\n",
              "      <td>15.0</td>\n",
              "      <td>13.500</td>\n",
              "    </tr>\n",
              "    <tr>\n",
              "      <th>79</th>\n",
              "      <td>10</td>\n",
              "      <td>1 1/9 bushel cartons</td>\n",
              "      <td>17.0</td>\n",
              "      <td>17.0</td>\n",
              "      <td>15.300</td>\n",
              "    </tr>\n",
              "  </tbody>\n",
              "</table>\n",
              "</div>"
            ],
            "text/plain": [
              "    Month               Package  Low Price  High Price   Price\n",
              "70      9  1 1/9 bushel cartons       15.0        15.0  13.500\n",
              "71      9  1 1/9 bushel cartons       18.0        18.0  16.200\n",
              "72     10  1 1/9 bushel cartons       18.0        18.0  16.200\n",
              "73     10  1 1/9 bushel cartons       17.0        17.0  15.300\n",
              "74     10  1 1/9 bushel cartons       15.0        15.0  13.500\n",
              "75     10  1 1/9 bushel cartons       18.0        18.0  16.200\n",
              "76     10  1 1/9 bushel cartons       17.0        17.0  15.300\n",
              "77     10  1 1/9 bushel cartons       17.0        18.5  15.975\n",
              "78     10  1 1/9 bushel cartons       15.0        15.0  13.500\n",
              "79     10  1 1/9 bushel cartons       17.0        17.0  15.300"
            ]
          },
          "metadata": {
            "tags": []
          },
          "execution_count": 12
        }
      ]
    },
    {
      "cell_type": "markdown",
      "metadata": {
        "id": "YTyNYNYyCiu8"
      },
      "source": [
        "✅ According to The Spruce Eats, a bushel's weight depends on the type of produce, as it's a volume measurement. \"A bushel of tomatoes, for example, is supposed to weigh 56 pounds... Leaves and greens take up more space with less weight, so a bushel of spinach is only 20 pounds.\" It's all pretty complicated! Let's not bother with making a bushel-to-pound conversion, and instead price by the bushel. All this study of bushels of pumpkins, however, goes to show how very important it is to understand the nature of your data!\n",
        "\n",
        "Now, you can analyze the pricing per unit based on their bushel measurement. If you print out the data one more time, you can see how it's standardized.\n",
        "\n",
        "✅ Did you notice that pumpkins sold by the half-bushel are very expensive? Can you figure out why? Hint: little pumpkins are way pricier than big ones, probably because there are so many more of them per bushel, given the unused space taken by one big hollow pie pumpkin."
      ]
    },
    {
      "cell_type": "code",
      "metadata": {
        "colab": {
          "base_uri": "https://localhost:8080/",
          "height": 357
        },
        "id": "3Zd4fFvXyM3w",
        "outputId": "cb2db616-e0db-4f97-c600-804ee8770855"
      },
      "source": [
        "new_pumpkins.tail(10)\n"
      ],
      "execution_count": 13,
      "outputs": [
        {
          "output_type": "execute_result",
          "data": {
            "text/html": [
              "<div>\n",
              "<style scoped>\n",
              "    .dataframe tbody tr th:only-of-type {\n",
              "        vertical-align: middle;\n",
              "    }\n",
              "\n",
              "    .dataframe tbody tr th {\n",
              "        vertical-align: top;\n",
              "    }\n",
              "\n",
              "    .dataframe thead th {\n",
              "        text-align: right;\n",
              "    }\n",
              "</style>\n",
              "<table border=\"1\" class=\"dataframe\">\n",
              "  <thead>\n",
              "    <tr style=\"text-align: right;\">\n",
              "      <th></th>\n",
              "      <th>Month</th>\n",
              "      <th>Package</th>\n",
              "      <th>Low Price</th>\n",
              "      <th>High Price</th>\n",
              "      <th>Price</th>\n",
              "    </tr>\n",
              "  </thead>\n",
              "  <tbody>\n",
              "    <tr>\n",
              "      <th>1733</th>\n",
              "      <td>9</td>\n",
              "      <td>1/2 bushel cartons</td>\n",
              "      <td>13.75</td>\n",
              "      <td>15.0</td>\n",
              "      <td>28.75</td>\n",
              "    </tr>\n",
              "    <tr>\n",
              "      <th>1734</th>\n",
              "      <td>9</td>\n",
              "      <td>1/2 bushel cartons</td>\n",
              "      <td>10.75</td>\n",
              "      <td>15.0</td>\n",
              "      <td>25.75</td>\n",
              "    </tr>\n",
              "    <tr>\n",
              "      <th>1735</th>\n",
              "      <td>9</td>\n",
              "      <td>1/2 bushel cartons</td>\n",
              "      <td>12.00</td>\n",
              "      <td>12.0</td>\n",
              "      <td>24.00</td>\n",
              "    </tr>\n",
              "    <tr>\n",
              "      <th>1736</th>\n",
              "      <td>9</td>\n",
              "      <td>1/2 bushel cartons</td>\n",
              "      <td>12.00</td>\n",
              "      <td>12.0</td>\n",
              "      <td>24.00</td>\n",
              "    </tr>\n",
              "    <tr>\n",
              "      <th>1737</th>\n",
              "      <td>9</td>\n",
              "      <td>1/2 bushel cartons</td>\n",
              "      <td>15.00</td>\n",
              "      <td>15.0</td>\n",
              "      <td>30.00</td>\n",
              "    </tr>\n",
              "    <tr>\n",
              "      <th>1738</th>\n",
              "      <td>9</td>\n",
              "      <td>1/2 bushel cartons</td>\n",
              "      <td>15.00</td>\n",
              "      <td>15.0</td>\n",
              "      <td>30.00</td>\n",
              "    </tr>\n",
              "    <tr>\n",
              "      <th>1739</th>\n",
              "      <td>9</td>\n",
              "      <td>1/2 bushel cartons</td>\n",
              "      <td>13.75</td>\n",
              "      <td>15.0</td>\n",
              "      <td>28.75</td>\n",
              "    </tr>\n",
              "    <tr>\n",
              "      <th>1740</th>\n",
              "      <td>9</td>\n",
              "      <td>1/2 bushel cartons</td>\n",
              "      <td>10.75</td>\n",
              "      <td>15.0</td>\n",
              "      <td>25.75</td>\n",
              "    </tr>\n",
              "    <tr>\n",
              "      <th>1741</th>\n",
              "      <td>9</td>\n",
              "      <td>1/2 bushel cartons</td>\n",
              "      <td>12.00</td>\n",
              "      <td>12.0</td>\n",
              "      <td>24.00</td>\n",
              "    </tr>\n",
              "    <tr>\n",
              "      <th>1742</th>\n",
              "      <td>9</td>\n",
              "      <td>1/2 bushel cartons</td>\n",
              "      <td>12.00</td>\n",
              "      <td>12.0</td>\n",
              "      <td>24.00</td>\n",
              "    </tr>\n",
              "  </tbody>\n",
              "</table>\n",
              "</div>"
            ],
            "text/plain": [
              "      Month             Package  Low Price  High Price  Price\n",
              "1733      9  1/2 bushel cartons      13.75        15.0  28.75\n",
              "1734      9  1/2 bushel cartons      10.75        15.0  25.75\n",
              "1735      9  1/2 bushel cartons      12.00        12.0  24.00\n",
              "1736      9  1/2 bushel cartons      12.00        12.0  24.00\n",
              "1737      9  1/2 bushel cartons      15.00        15.0  30.00\n",
              "1738      9  1/2 bushel cartons      15.00        15.0  30.00\n",
              "1739      9  1/2 bushel cartons      13.75        15.0  28.75\n",
              "1740      9  1/2 bushel cartons      10.75        15.0  25.75\n",
              "1741      9  1/2 bushel cartons      12.00        12.0  24.00\n",
              "1742      9  1/2 bushel cartons      12.00        12.0  24.00"
            ]
          },
          "metadata": {
            "tags": []
          },
          "execution_count": 13
        }
      ]
    },
    {
      "cell_type": "markdown",
      "metadata": {
        "id": "gLqOP5nwDBKU"
      },
      "source": [
        "## Visualization Strategies\n",
        "Part of the data scientist's role is to demonstrate the quality and nature of the data they are working with. To do this, they often create interesting visualizations, or plots, graphs, and charts, showing different aspects of data. In this way, they are able to visually show relationships and gaps that are otherwise hard to uncover.\n",
        "\n",
        "Visualizations can also help determine the machine learning technique most appropriate for the data. A scatterplot that seems to follow a line, for example, indicates that the data is a good candidate for a linear regression exercise.\n",
        "\n",
        "One data visualization libary that works well in Jupyter notebooks is Matplotlib "
      ]
    },
    {
      "cell_type": "code",
      "metadata": {
        "colab": {
          "base_uri": "https://localhost:8080/",
          "height": 279
        },
        "id": "lSkXl4PdZwgJ",
        "outputId": "02cec2a9-edb7-4b1e-d118-974e6d2990f1"
      },
      "source": [
        "price = new_pumpkins.Price\n",
        "month = new_pumpkins.Month\n",
        "plt.scatter(price, month)\n",
        "plt.ylabel(\"months\")\n",
        "plt.xlabel(\"Pumpkin Price\")\n",
        "plt.show()"
      ],
      "execution_count": 14,
      "outputs": [
        {
          "output_type": "display_data",
          "data": {
            "image/png": "[encoded data removed]",
            "text/plain": [
              "<Figure size 432x288 with 1 Axes>"
            ]
          },
          "metadata": {
            "tags": [],
            "needs_background": "light"
          }
        }
      ]
    },
    {
      "cell_type": "code",
      "metadata": {
        "colab": {
          "base_uri": "https://localhost:8080/",
          "height": 299
        },
        "id": "MeZDxoY7Z0tI",
        "outputId": "826dde55-a624-4723-ede4-1c6d957c1f99"
      },
      "source": [
        "new_pumpkins.groupby(['Month'])['Price'].mean().plot(kind='bar')\n",
        "plt.ylabel(\"Pumpkin Price\")"
      ],
      "execution_count": 15,
      "outputs": [
        {
          "output_type": "execute_result",
          "data": {
            "text/plain": [
              "Text(0, 0.5, 'Pumpkin Price')"
            ]
          },
          "metadata": {
            "tags": []
          },
          "execution_count": 15
        },
        {
          "output_type": "display_data",
          "data": {
            "image/png": "[encoded data removed]",
            "text/plain": [
              "<Figure size 432x288 with 1 Axes>"
            ]
          },
          "metadata": {
            "tags": [],
            "needs_background": "light"
          }
        }
      ]
    },
    {
      "cell_type": "markdown",
      "metadata": {
        "id": "EBziunPZFcqo"
      },
      "source": [
        "## 🚀Challenge\n",
        "Explore the different types of visualization that Matplotlib offers. Which types are most appropriate for regression problems?"
      ]
    },
    {
      "cell_type": "code",
      "metadata": {
        "colab": {
          "base_uri": "https://localhost:8080/",
          "height": 203
        },
        "id": "VOGnm8wYFh2e",
        "outputId": "e089431f-f420-457e-9335-f6b5f6528a5a"
      },
      "source": [
        "# Import Data\n",
        "# df = pd.read_csv(\"https://raw.githubusercontent.com/selva86/datasets/master/mpg_ggplot2.csv\")\n",
        "df_counts = new_pumpkins.groupby(['Month', 'Price']).size().reset_index(name='counts')\n",
        "df_counts.head()\n",
        "# # Draw Stripplot\n",
        "# fig, ax = plt.subplots(figsize=(16,10), dpi= 80)    \n",
        "# sns.stripplot(df_counts.Price, df_counts.Month, size= df_counts.Price, ax=ax)\n",
        "\n",
        "# # Decorations\n",
        "# plt.title('Counts Plot - Size of circle is bigger as more points overlap', fontsize=22)\n",
        "# plt.show()"
      ],
      "execution_count": 16,
      "outputs": [
        {
          "output_type": "execute_result",
          "data": {
            "text/html": [
              "<div>\n",
              "<style scoped>\n",
              "    .dataframe tbody tr th:only-of-type {\n",
              "        vertical-align: middle;\n",
              "    }\n",
              "\n",
              "    .dataframe tbody tr th {\n",
              "        vertical-align: top;\n",
              "    }\n",
              "\n",
              "    .dataframe thead th {\n",
              "        text-align: right;\n",
              "    }\n",
              "</style>\n",
              "<table border=\"1\" class=\"dataframe\">\n",
              "  <thead>\n",
              "    <tr style=\"text-align: right;\">\n",
              "      <th></th>\n",
              "      <th>Month</th>\n",
              "      <th>Price</th>\n",
              "      <th>counts</th>\n",
              "    </tr>\n",
              "  </thead>\n",
              "  <tbody>\n",
              "    <tr>\n",
              "      <th>0</th>\n",
              "      <td>8</td>\n",
              "      <td>17.10</td>\n",
              "      <td>1</td>\n",
              "    </tr>\n",
              "    <tr>\n",
              "      <th>1</th>\n",
              "      <td>8</td>\n",
              "      <td>18.00</td>\n",
              "      <td>1</td>\n",
              "    </tr>\n",
              "    <tr>\n",
              "      <th>2</th>\n",
              "      <td>8</td>\n",
              "      <td>38.00</td>\n",
              "      <td>1</td>\n",
              "    </tr>\n",
              "    <tr>\n",
              "      <th>3</th>\n",
              "      <td>9</td>\n",
              "      <td>13.50</td>\n",
              "      <td>2</td>\n",
              "    </tr>\n",
              "    <tr>\n",
              "      <th>4</th>\n",
              "      <td>9</td>\n",
              "      <td>13.95</td>\n",
              "      <td>2</td>\n",
              "    </tr>\n",
              "  </tbody>\n",
              "</table>\n",
              "</div>"
            ],
            "text/plain": [
              "   Month  Price  counts\n",
              "0      8  17.10       1\n",
              "1      8  18.00       1\n",
              "2      8  38.00       1\n",
              "3      9  13.50       2\n",
              "4      9  13.95       2"
            ]
          },
          "metadata": {
            "tags": []
          },
          "execution_count": 16
        }
      ]
    },
    {
      "cell_type": "code",
      "metadata": {
        "colab": {
          "base_uri": "https://localhost:8080/"
        },
        "id": "lYdfBMEZ3QxU",
        "outputId": "1c15ac7d-7946-451a-a5c0-214b604b1eba"
      },
      "source": [
        "df_counts.info()"
      ],
      "execution_count": 17,
      "outputs": [
        {
          "output_type": "stream",
          "text": [
            "<class 'pandas.core.frame.DataFrame'>\n",
            "RangeIndex: 82 entries, 0 to 81\n",
            "Data columns (total 3 columns):\n",
            " #   Column  Non-Null Count  Dtype  \n",
            "---  ------  --------------  -----  \n",
            " 0   Month   82 non-null     int64  \n",
            " 1   Price   82 non-null     float64\n",
            " 2   counts  82 non-null     int64  \n",
            "dtypes: float64(1), int64(2)\n",
            "memory usage: 2.0 KB\n"
          ],
          "name": "stdout"
        }
      ]
    },
    {
      "cell_type": "code",
      "metadata": {
        "colab": {
          "base_uri": "https://localhost:8080/",
          "height": 748
        },
        "id": "6HCZjz-m21Ef",
        "outputId": "b96143ce-8553-470b-eb70-ac6ff314a144"
      },
      "source": [
        "# # Draw Stripplot\n",
        "fig, ax = plt.subplots(figsize=(16,10), dpi= 80)    \n",
        "sns.stripplot( df_counts.Month,df_counts.Price,ax=ax)\n",
        "\n",
        "# # Decorations\n",
        "plt.title('Counts Plot - Months Vs Pumpkin Price ', fontsize=22)\n",
        "plt.show()"
      ],
      "execution_count": 18,
      "outputs": [
        {
          "output_type": "stream",
          "text": [
            "/usr/local/lib/python3.7/dist-packages/seaborn/_decorators.py:43: FutureWarning: Pass the following variables as keyword args: x, y. From version 0.12, the only valid positional argument will be `data`, and passing other arguments without an explicit keyword will result in an error or misinterpretation.\n",
            "  FutureWarning\n"
          ],
          "name": "stderr"
        },
        {
          "output_type": "display_data",
          "data": {
            "image/png": "[encoded data removed]",
            "text/plain": [
              "<Figure size 1280x800 with 1 Axes>"
            ]
          },
          "metadata": {
            "tags": [],
            "needs_background": "light"
          }
        }
      ]
    },
    {
      "cell_type": "markdown",
      "metadata": {
        "id": "fQIBRFV0-n1p"
      },
      "source": [
        "### https://www.kite.com/python/answers/how-to-plot-a-linear-regression-line-on-a-scatter-plot-in-python\n",
        "x = np.array([1, 3, 5, 7])\n",
        "generate data\n",
        "\n",
        "y = np.array([ 6, 3, 9, 5 ])\n",
        "plt.plot(x, y, 'o')\n",
        "create scatter plot\n",
        "\n",
        "\n",
        "m, b = np.polyfit(x, y, 1)\n",
        "m = slope, b=intercept\n",
        "\n",
        "\n",
        "plt.plot(x, m*x + b)\n",
        "add line of best fit\n",
        "\n"
      ]
    },
    {
      "cell_type": "code",
      "metadata": {
        "colab": {
          "base_uri": "https://localhost:8080/"
        },
        "id": "JqxNuTWyTPo2",
        "outputId": "f3bd3d56-901f-4ef9-def0-c3081800332a"
      },
      "source": [
        "new_pumpkins.Month"
      ],
      "execution_count": 28,
      "outputs": [
        {
          "output_type": "execute_result",
          "data": {
            "text/plain": [
              "70       9\n",
              "71       9\n",
              "72      10\n",
              "73      10\n",
              "74      10\n",
              "        ..\n",
              "1738     9\n",
              "1739     9\n",
              "1740     9\n",
              "1741     9\n",
              "1742     9\n",
              "Name: Month, Length: 415, dtype: int64"
            ]
          },
          "metadata": {
            "tags": []
          },
          "execution_count": 28
        }
      ]
    },
    {
      "cell_type": "code",
      "metadata": {
        "colab": {
          "base_uri": "https://localhost:8080/",
          "height": 282
        },
        "id": "BzF9K_hxQ68t",
        "outputId": "86969926-7577-4321-f363-c525c46a39e7"
      },
      "source": [
        "import numpy as np \n",
        "x = new_pumpkins.Month  #generate data\n",
        "\n",
        "y = new_pumpkins.Price\n",
        "plt.plot(x, y, 'o') #create scatter plot\n",
        "m, b = np.polyfit(x, y, 1)# m = slope, b=intercept\n",
        "plt.plot(x, m*x + b) #add line of best fit"
      ],
      "execution_count": 30,
      "outputs": [
        {
          "output_type": "execute_result",
          "data": {
            "text/plain": [
              "[<matplotlib.lines.Line2D at 0x7fd03c559710>]"
            ]
          },
          "metadata": {
            "tags": []
          },
          "execution_count": 30
        },
        {
          "output_type": "display_data",
          "data": {
            "image/png": "[encoded data removed]",
            "text/plain": [
              "<Figure size 432x288 with 1 Axes>"
            ]
          },
          "metadata": {
            "tags": [],
            "needs_background": "light"
          }
        }
      ]
    },
    {
      "cell_type": "code",
      "metadata": {
        "id": "E9_znAocVegs"
      },
      "source": [
        ""
      ],
      "execution_count": null,
      "outputs": []
    }
  ]
}